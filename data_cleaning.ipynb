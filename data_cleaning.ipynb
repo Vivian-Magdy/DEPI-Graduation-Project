{
 "cells": [
  {
   "cell_type": "markdown",
   "id": "cc9f4e02",
   "metadata": {},
   "source": [
    "# Project : Northwind Database\n",
    "<li><a href=\"#Load data\">Load data to data frames</a></li>\n",
    "<li><a href=\"#Inspecting\">Inspecting Data</a></li>\n",
    "<li><a href=\"#Data Cleaning\">Data Cleaning</a></li>\n",
    "<li><a href=\"#Exploratory Data Analysis\">Exploratory Data Analysis</a></li>\n",
    "<li><a href=\"#Save DataFrames to CSV\">Save DataFrames to CSV</a></li>"
   ]
  },
  {
   "cell_type": "markdown",
   "id": "742d69ce",
   "metadata": {
    "jp-MarkdownHeadingCollapsed": true
   },
   "source": [
    "## Load data to data frames\n",
    "<a id='Load data'></a>"
   ]
  },
  {
   "cell_type": "code",
   "execution_count": 3,
   "id": "ac5a906a",
   "metadata": {},
   "outputs": [],
   "source": [
    "import pandas as pd"
   ]
  },
  {
   "cell_type": "code",
   "execution_count": 4,
   "id": "f224c166",
   "metadata": {},
   "outputs": [
    {
     "name": "stdout",
     "output_type": "stream",
     "text": [
      "['df_orderitem', 'df_orders', 'df_customer', 'df_product', 'df_supplier']\n"
     ]
    }
   ],
   "source": [
    "# Load the Excel file\n",
    "excel_name ='Northwind Database.xlsx'\n",
    "\n",
    "# List all sheets\n",
    "sheets_name = pd.ExcelFile(excel_name).sheet_names\n",
    "#Create empty list of data frame names\n",
    "list_df = []\n",
    "\n",
    "# Create data frame for all sheets in excel\n",
    "for sheet in sheets_name:\n",
    "    globals()[f'df_{sheet.lower()}'] = pd.read_excel(excel_name, sheet_name=sheet)\n",
    "# Append all data frame names create from excel file\n",
    "    list_df.append(f'df_{sheet.lower()}')\n",
    "print(list_df)"
   ]
  },
  {
   "cell_type": "markdown",
   "id": "2e2767b2",
   "metadata": {
    "jp-MarkdownHeadingCollapsed": true
   },
   "source": [
    "## Inspecting Data\n",
    "<a id='Inspecting'></a>"
   ]
  },
  {
   "cell_type": "code",
   "execution_count": 6,
   "id": "1f06cea4",
   "metadata": {},
   "outputs": [],
   "source": [
    "# Define function to explore data\n",
    "def data_exploration(df):\n",
    "  data ={'name':[],\n",
    "         'type':[],\n",
    "         'nulls':[],\n",
    "         'unique':[],\n",
    "         'most_frequent':[],\n",
    "         'per_most_frequent':[]\n",
    "  }\n",
    "  for column in df.columns:\n",
    "    data['name'].append(column)\n",
    "    data['type'].append(df[column].dtype)\n",
    "    data['nulls'].append(df[column].isnull().sum())\n",
    "    data['unique'].append(df[column].nunique())\n",
    "    data['most_frequent'].append(df[column].value_counts().idxmax())\n",
    "    data['per_most_frequent'].append(df[column].value_counts().max()/df.shape[0])\n",
    "  df_1 =pd.DataFrame(data)\n",
    "  df_1 = df_1.style.format({'per_most_frequent':'{:.2%}'})\n",
    "  print(\"Columns\",df.shape[1],\"\\nRows\",df.shape[0])\n",
    "  print(\"duplicated\",df.duplicated().sum())\n",
    "  return df_1"
   ]
  },
  {
   "cell_type": "code",
   "execution_count": 7,
   "id": "9b4d8df3-df26-4864-99e4-e6e1020df6c5",
   "metadata": {},
   "outputs": [
    {
     "name": "stdout",
     "output_type": "stream",
     "text": [
      "Columns 5 \n",
      "Rows 2203\n",
      "duplicated 48\n"
     ]
    },
    {
     "data": {
      "text/html": [
       "<style type=\"text/css\">\n",
       "</style>\n",
       "<table id=\"T_ea419\">\n",
       "  <thead>\n",
       "    <tr>\n",
       "      <th class=\"blank level0\" >&nbsp;</th>\n",
       "      <th id=\"T_ea419_level0_col0\" class=\"col_heading level0 col0\" >name</th>\n",
       "      <th id=\"T_ea419_level0_col1\" class=\"col_heading level0 col1\" >type</th>\n",
       "      <th id=\"T_ea419_level0_col2\" class=\"col_heading level0 col2\" >nulls</th>\n",
       "      <th id=\"T_ea419_level0_col3\" class=\"col_heading level0 col3\" >unique</th>\n",
       "      <th id=\"T_ea419_level0_col4\" class=\"col_heading level0 col4\" >most_frequent</th>\n",
       "      <th id=\"T_ea419_level0_col5\" class=\"col_heading level0 col5\" >per_most_frequent</th>\n",
       "    </tr>\n",
       "  </thead>\n",
       "  <tbody>\n",
       "    <tr>\n",
       "      <th id=\"T_ea419_level0_row0\" class=\"row_heading level0 row0\" >0</th>\n",
       "      <td id=\"T_ea419_row0_col0\" class=\"data row0 col0\" >Id</td>\n",
       "      <td id=\"T_ea419_row0_col1\" class=\"data row0 col1\" >int64</td>\n",
       "      <td id=\"T_ea419_row0_col2\" class=\"data row0 col2\" >0</td>\n",
       "      <td id=\"T_ea419_row0_col3\" class=\"data row0 col3\" >2155</td>\n",
       "      <td id=\"T_ea419_row0_col4\" class=\"data row0 col4\" >2067.000000</td>\n",
       "      <td id=\"T_ea419_row0_col5\" class=\"data row0 col5\" >0.14%</td>\n",
       "    </tr>\n",
       "    <tr>\n",
       "      <th id=\"T_ea419_level0_row1\" class=\"row_heading level0 row1\" >1</th>\n",
       "      <td id=\"T_ea419_row1_col0\" class=\"data row1 col0\" >OrderId</td>\n",
       "      <td id=\"T_ea419_row1_col1\" class=\"data row1 col1\" >int64</td>\n",
       "      <td id=\"T_ea419_row1_col2\" class=\"data row1 col2\" >0</td>\n",
       "      <td id=\"T_ea419_row1_col3\" class=\"data row1 col3\" >830</td>\n",
       "      <td id=\"T_ea419_row1_col4\" class=\"data row1 col4\" >830.000000</td>\n",
       "      <td id=\"T_ea419_row1_col5\" class=\"data row1 col5\" >1.13%</td>\n",
       "    </tr>\n",
       "    <tr>\n",
       "      <th id=\"T_ea419_level0_row2\" class=\"row_heading level0 row2\" >2</th>\n",
       "      <td id=\"T_ea419_row2_col0\" class=\"data row2 col0\" >ProductId</td>\n",
       "      <td id=\"T_ea419_row2_col1\" class=\"data row2 col1\" >int64</td>\n",
       "      <td id=\"T_ea419_row2_col2\" class=\"data row2 col2\" >0</td>\n",
       "      <td id=\"T_ea419_row2_col3\" class=\"data row2 col3\" >77</td>\n",
       "      <td id=\"T_ea419_row2_col4\" class=\"data row2 col4\" >24.000000</td>\n",
       "      <td id=\"T_ea419_row2_col5\" class=\"data row2 col5\" >2.54%</td>\n",
       "    </tr>\n",
       "    <tr>\n",
       "      <th id=\"T_ea419_level0_row3\" class=\"row_heading level0 row3\" >3</th>\n",
       "      <td id=\"T_ea419_row3_col0\" class=\"data row3 col0\" >UnitPrice</td>\n",
       "      <td id=\"T_ea419_row3_col1\" class=\"data row3 col1\" >float64</td>\n",
       "      <td id=\"T_ea419_row3_col2\" class=\"data row3 col2\" >0</td>\n",
       "      <td id=\"T_ea419_row3_col3\" class=\"data row3 col3\" >115</td>\n",
       "      <td id=\"T_ea419_row3_col4\" class=\"data row3 col4\" >18.000000</td>\n",
       "      <td id=\"T_ea419_row3_col5\" class=\"data row3 col5\" >4.72%</td>\n",
       "    </tr>\n",
       "    <tr>\n",
       "      <th id=\"T_ea419_level0_row4\" class=\"row_heading level0 row4\" >4</th>\n",
       "      <td id=\"T_ea419_row4_col0\" class=\"data row4 col0\" >Quantity</td>\n",
       "      <td id=\"T_ea419_row4_col1\" class=\"data row4 col1\" >int64</td>\n",
       "      <td id=\"T_ea419_row4_col2\" class=\"data row4 col2\" >0</td>\n",
       "      <td id=\"T_ea419_row4_col3\" class=\"data row4 col3\" >55</td>\n",
       "      <td id=\"T_ea419_row4_col4\" class=\"data row4 col4\" >20.000000</td>\n",
       "      <td id=\"T_ea419_row4_col5\" class=\"data row4 col5\" >11.76%</td>\n",
       "    </tr>\n",
       "  </tbody>\n",
       "</table>\n"
      ],
      "text/plain": [
       "<pandas.io.formats.style.Styler at 0x15fe9fadeb0>"
      ]
     },
     "execution_count": 7,
     "metadata": {},
     "output_type": "execute_result"
    }
   ],
   "source": [
    "data_exploration(df_orderitem)"
   ]
  },
  {
   "cell_type": "code",
   "execution_count": 8,
   "id": "14e3f3a2-0e11-4d85-b26e-ce2ad0b4ca9e",
   "metadata": {},
   "outputs": [
    {
     "data": {
      "text/html": [
       "<div>\n",
       "<style scoped>\n",
       "    .dataframe tbody tr th:only-of-type {\n",
       "        vertical-align: middle;\n",
       "    }\n",
       "\n",
       "    .dataframe tbody tr th {\n",
       "        vertical-align: top;\n",
       "    }\n",
       "\n",
       "    .dataframe thead th {\n",
       "        text-align: right;\n",
       "    }\n",
       "</style>\n",
       "<table border=\"1\" class=\"dataframe\">\n",
       "  <thead>\n",
       "    <tr style=\"text-align: right;\">\n",
       "      <th></th>\n",
       "      <th>Id</th>\n",
       "      <th>OrderId</th>\n",
       "      <th>ProductId</th>\n",
       "      <th>UnitPrice</th>\n",
       "      <th>Quantity</th>\n",
       "    </tr>\n",
       "  </thead>\n",
       "  <tbody>\n",
       "    <tr>\n",
       "      <th>0</th>\n",
       "      <td>683</td>\n",
       "      <td>261</td>\n",
       "      <td>39</td>\n",
       "      <td>18.0</td>\n",
       "      <td>10</td>\n",
       "    </tr>\n",
       "    <tr>\n",
       "      <th>1</th>\n",
       "      <td>721</td>\n",
       "      <td>274</td>\n",
       "      <td>35</td>\n",
       "      <td>18.0</td>\n",
       "      <td>3</td>\n",
       "    </tr>\n",
       "    <tr>\n",
       "      <th>2</th>\n",
       "      <td>724</td>\n",
       "      <td>275</td>\n",
       "      <td>1</td>\n",
       "      <td>18.0</td>\n",
       "      <td>40</td>\n",
       "    </tr>\n",
       "    <tr>\n",
       "      <th>3</th>\n",
       "      <td>738</td>\n",
       "      <td>279</td>\n",
       "      <td>1</td>\n",
       "      <td>18.0</td>\n",
       "      <td>8</td>\n",
       "    </tr>\n",
       "    <tr>\n",
       "      <th>4</th>\n",
       "      <td>752</td>\n",
       "      <td>283</td>\n",
       "      <td>76</td>\n",
       "      <td>18.0</td>\n",
       "      <td>50</td>\n",
       "    </tr>\n",
       "  </tbody>\n",
       "</table>\n",
       "</div>"
      ],
      "text/plain": [
       "    Id  OrderId  ProductId  UnitPrice  Quantity\n",
       "0  683      261         39       18.0        10\n",
       "1  721      274         35       18.0         3\n",
       "2  724      275          1       18.0        40\n",
       "3  738      279          1       18.0         8\n",
       "4  752      283         76       18.0        50"
      ]
     },
     "execution_count": 8,
     "metadata": {},
     "output_type": "execute_result"
    }
   ],
   "source": [
    "df_orderitem.head()"
   ]
  },
  {
   "cell_type": "code",
   "execution_count": 9,
   "id": "605ff8b6",
   "metadata": {},
   "outputs": [
    {
     "name": "stdout",
     "output_type": "stream",
     "text": [
      "Columns 5 \n",
      "Rows 862\n",
      "duplicated 32\n"
     ]
    },
    {
     "data": {
      "text/html": [
       "<style type=\"text/css\">\n",
       "</style>\n",
       "<table id=\"T_22d09\">\n",
       "  <thead>\n",
       "    <tr>\n",
       "      <th class=\"blank level0\" >&nbsp;</th>\n",
       "      <th id=\"T_22d09_level0_col0\" class=\"col_heading level0 col0\" >name</th>\n",
       "      <th id=\"T_22d09_level0_col1\" class=\"col_heading level0 col1\" >type</th>\n",
       "      <th id=\"T_22d09_level0_col2\" class=\"col_heading level0 col2\" >nulls</th>\n",
       "      <th id=\"T_22d09_level0_col3\" class=\"col_heading level0 col3\" >unique</th>\n",
       "      <th id=\"T_22d09_level0_col4\" class=\"col_heading level0 col4\" >most_frequent</th>\n",
       "      <th id=\"T_22d09_level0_col5\" class=\"col_heading level0 col5\" >per_most_frequent</th>\n",
       "    </tr>\n",
       "  </thead>\n",
       "  <tbody>\n",
       "    <tr>\n",
       "      <th id=\"T_22d09_level0_row0\" class=\"row_heading level0 row0\" >0</th>\n",
       "      <td id=\"T_22d09_row0_col0\" class=\"data row0 col0\" >Id&Date</td>\n",
       "      <td id=\"T_22d09_row0_col1\" class=\"data row0 col1\" >object</td>\n",
       "      <td id=\"T_22d09_row0_col2\" class=\"data row0 col2\" >0</td>\n",
       "      <td id=\"T_22d09_row0_col3\" class=\"data row0 col3\" >830</td>\n",
       "      <td id=\"T_22d09_row0_col4\" class=\"data row0 col4\" >643-1622014</td>\n",
       "      <td id=\"T_22d09_row0_col5\" class=\"data row0 col5\" >0.35%</td>\n",
       "    </tr>\n",
       "    <tr>\n",
       "      <th id=\"T_22d09_level0_row1\" class=\"row_heading level0 row1\" >1</th>\n",
       "      <td id=\"T_22d09_row1_col0\" class=\"data row1 col0\" >Month</td>\n",
       "      <td id=\"T_22d09_row1_col1\" class=\"data row1 col1\" >object</td>\n",
       "      <td id=\"T_22d09_row1_col2\" class=\"data row1 col2\" >0</td>\n",
       "      <td id=\"T_22d09_row1_col3\" class=\"data row1 col3\" >12</td>\n",
       "      <td id=\"T_22d09_row1_col4\" class=\"data row1 col4\" >Apr</td>\n",
       "      <td id=\"T_22d09_row1_col5\" class=\"data row1 col5\" >12.76%</td>\n",
       "    </tr>\n",
       "    <tr>\n",
       "      <th id=\"T_22d09_level0_row2\" class=\"row_heading level0 row2\" >2</th>\n",
       "      <td id=\"T_22d09_row2_col0\" class=\"data row2 col0\" >OrderNumber</td>\n",
       "      <td id=\"T_22d09_row2_col1\" class=\"data row2 col1\" >int64</td>\n",
       "      <td id=\"T_22d09_row2_col2\" class=\"data row2 col2\" >0</td>\n",
       "      <td id=\"T_22d09_row2_col3\" class=\"data row2 col3\" >830</td>\n",
       "      <td id=\"T_22d09_row2_col4\" class=\"data row2 col4\" >543020</td>\n",
       "      <td id=\"T_22d09_row2_col5\" class=\"data row2 col5\" >0.35%</td>\n",
       "    </tr>\n",
       "    <tr>\n",
       "      <th id=\"T_22d09_level0_row3\" class=\"row_heading level0 row3\" >3</th>\n",
       "      <td id=\"T_22d09_row3_col0\" class=\"data row3 col0\" >CustomerId</td>\n",
       "      <td id=\"T_22d09_row3_col1\" class=\"data row3 col1\" >int64</td>\n",
       "      <td id=\"T_22d09_row3_col2\" class=\"data row3 col2\" >0</td>\n",
       "      <td id=\"T_22d09_row3_col3\" class=\"data row3 col3\" >89</td>\n",
       "      <td id=\"T_22d09_row3_col4\" class=\"data row3 col4\" >71</td>\n",
       "      <td id=\"T_22d09_row3_col5\" class=\"data row3 col5\" >3.71%</td>\n",
       "    </tr>\n",
       "    <tr>\n",
       "      <th id=\"T_22d09_level0_row4\" class=\"row_heading level0 row4\" >4</th>\n",
       "      <td id=\"T_22d09_row4_col0\" class=\"data row4 col0\" >TotalAmount</td>\n",
       "      <td id=\"T_22d09_row4_col1\" class=\"data row4 col1\" >float64</td>\n",
       "      <td id=\"T_22d09_row4_col2\" class=\"data row4 col2\" >0</td>\n",
       "      <td id=\"T_22d09_row4_col3\" class=\"data row4 col3\" >779</td>\n",
       "      <td id=\"T_22d09_row4_col4\" class=\"data row4 col4\" >360.000000</td>\n",
       "      <td id=\"T_22d09_row4_col5\" class=\"data row4 col5\" >0.58%</td>\n",
       "    </tr>\n",
       "  </tbody>\n",
       "</table>\n"
      ],
      "text/plain": [
       "<pandas.io.formats.style.Styler at 0x15feac36150>"
      ]
     },
     "execution_count": 9,
     "metadata": {},
     "output_type": "execute_result"
    }
   ],
   "source": [
    "data_exploration(df_orders)"
   ]
  },
  {
   "cell_type": "code",
   "execution_count": 10,
   "id": "fd7fd335-31f9-46b8-aa15-67208f9b2b63",
   "metadata": {},
   "outputs": [
    {
     "data": {
      "text/html": [
       "<div>\n",
       "<style scoped>\n",
       "    .dataframe tbody tr th:only-of-type {\n",
       "        vertical-align: middle;\n",
       "    }\n",
       "\n",
       "    .dataframe tbody tr th {\n",
       "        vertical-align: top;\n",
       "    }\n",
       "\n",
       "    .dataframe thead th {\n",
       "        text-align: right;\n",
       "    }\n",
       "</style>\n",
       "<table border=\"1\" class=\"dataframe\">\n",
       "  <thead>\n",
       "    <tr style=\"text-align: right;\">\n",
       "      <th></th>\n",
       "      <th>Id&amp;Date</th>\n",
       "      <th>Month</th>\n",
       "      <th>OrderNumber</th>\n",
       "      <th>CustomerId</th>\n",
       "      <th>TotalAmount</th>\n",
       "    </tr>\n",
       "  </thead>\n",
       "  <tbody>\n",
       "    <tr>\n",
       "      <th>0</th>\n",
       "      <td>1-472012</td>\n",
       "      <td>Jul</td>\n",
       "      <td>542378</td>\n",
       "      <td>85</td>\n",
       "      <td>452.6</td>\n",
       "    </tr>\n",
       "    <tr>\n",
       "      <th>1</th>\n",
       "      <td>2-572012</td>\n",
       "      <td>Jul</td>\n",
       "      <td>542379</td>\n",
       "      <td>79</td>\n",
       "      <td>1863.4</td>\n",
       "    </tr>\n",
       "    <tr>\n",
       "      <th>2</th>\n",
       "      <td>3-872012</td>\n",
       "      <td>Jul</td>\n",
       "      <td>542380</td>\n",
       "      <td>34</td>\n",
       "      <td>1813.0</td>\n",
       "    </tr>\n",
       "    <tr>\n",
       "      <th>3</th>\n",
       "      <td>4-872012</td>\n",
       "      <td>Jul</td>\n",
       "      <td>542381</td>\n",
       "      <td>84</td>\n",
       "      <td>670.8</td>\n",
       "    </tr>\n",
       "    <tr>\n",
       "      <th>4</th>\n",
       "      <td>5-972012</td>\n",
       "      <td>Jul</td>\n",
       "      <td>542382</td>\n",
       "      <td>76</td>\n",
       "      <td>3730.0</td>\n",
       "    </tr>\n",
       "  </tbody>\n",
       "</table>\n",
       "</div>"
      ],
      "text/plain": [
       "    Id&Date Month  OrderNumber  CustomerId  TotalAmount\n",
       "0  1-472012   Jul       542378          85        452.6\n",
       "1  2-572012   Jul       542379          79       1863.4\n",
       "2  3-872012   Jul       542380          34       1813.0\n",
       "3  4-872012   Jul       542381          84        670.8\n",
       "4  5-972012   Jul       542382          76       3730.0"
      ]
     },
     "execution_count": 10,
     "metadata": {},
     "output_type": "execute_result"
    }
   ],
   "source": [
    "df_orders.head()"
   ]
  },
  {
   "cell_type": "code",
   "execution_count": 11,
   "id": "afab32eb",
   "metadata": {},
   "outputs": [
    {
     "name": "stdout",
     "output_type": "stream",
     "text": [
      "Columns 6 \n",
      "Rows 103\n",
      "duplicated 12\n"
     ]
    },
    {
     "data": {
      "text/html": [
       "<style type=\"text/css\">\n",
       "</style>\n",
       "<table id=\"T_03c56\">\n",
       "  <thead>\n",
       "    <tr>\n",
       "      <th class=\"blank level0\" >&nbsp;</th>\n",
       "      <th id=\"T_03c56_level0_col0\" class=\"col_heading level0 col0\" >name</th>\n",
       "      <th id=\"T_03c56_level0_col1\" class=\"col_heading level0 col1\" >type</th>\n",
       "      <th id=\"T_03c56_level0_col2\" class=\"col_heading level0 col2\" >nulls</th>\n",
       "      <th id=\"T_03c56_level0_col3\" class=\"col_heading level0 col3\" >unique</th>\n",
       "      <th id=\"T_03c56_level0_col4\" class=\"col_heading level0 col4\" >most_frequent</th>\n",
       "      <th id=\"T_03c56_level0_col5\" class=\"col_heading level0 col5\" >per_most_frequent</th>\n",
       "    </tr>\n",
       "  </thead>\n",
       "  <tbody>\n",
       "    <tr>\n",
       "      <th id=\"T_03c56_level0_row0\" class=\"row_heading level0 row0\" >0</th>\n",
       "      <td id=\"T_03c56_row0_col0\" class=\"data row0 col0\" >Id</td>\n",
       "      <td id=\"T_03c56_row0_col1\" class=\"data row0 col1\" >int64</td>\n",
       "      <td id=\"T_03c56_row0_col2\" class=\"data row0 col2\" >0</td>\n",
       "      <td id=\"T_03c56_row0_col3\" class=\"data row0 col3\" >91</td>\n",
       "      <td id=\"T_03c56_row0_col4\" class=\"data row0 col4\" >35</td>\n",
       "      <td id=\"T_03c56_row0_col5\" class=\"data row0 col5\" >2.91%</td>\n",
       "    </tr>\n",
       "    <tr>\n",
       "      <th id=\"T_03c56_level0_row1\" class=\"row_heading level0 row1\" >1</th>\n",
       "      <td id=\"T_03c56_row1_col0\" class=\"data row1 col0\" >FirstName</td>\n",
       "      <td id=\"T_03c56_row1_col1\" class=\"data row1 col1\" >object</td>\n",
       "      <td id=\"T_03c56_row1_col2\" class=\"data row1 col2\" >0</td>\n",
       "      <td id=\"T_03c56_row1_col3\" class=\"data row1 col3\" >86</td>\n",
       "      <td id=\"T_03c56_row1_col4\" class=\"data row1 col4\" >Carlos</td>\n",
       "      <td id=\"T_03c56_row1_col5\" class=\"data row1 col5\" >3.88%</td>\n",
       "    </tr>\n",
       "    <tr>\n",
       "      <th id=\"T_03c56_level0_row2\" class=\"row_heading level0 row2\" >2</th>\n",
       "      <td id=\"T_03c56_row2_col0\" class=\"data row2 col0\" >LastName</td>\n",
       "      <td id=\"T_03c56_row2_col1\" class=\"data row2 col1\" >object</td>\n",
       "      <td id=\"T_03c56_row2_col2\" class=\"data row2 col2\" >0</td>\n",
       "      <td id=\"T_03c56_row2_col3\" class=\"data row2 col3\" >90</td>\n",
       "      <td id=\"T_03c56_row2_col4\" class=\"data row2 col4\" >Wilson</td>\n",
       "      <td id=\"T_03c56_row2_col5\" class=\"data row2 col5\" >2.91%</td>\n",
       "    </tr>\n",
       "    <tr>\n",
       "      <th id=\"T_03c56_level0_row3\" class=\"row_heading level0 row3\" >3</th>\n",
       "      <td id=\"T_03c56_row3_col0\" class=\"data row3 col0\" >City</td>\n",
       "      <td id=\"T_03c56_row3_col1\" class=\"data row3 col1\" >object</td>\n",
       "      <td id=\"T_03c56_row3_col2\" class=\"data row3 col2\" >0</td>\n",
       "      <td id=\"T_03c56_row3_col3\" class=\"data row3 col3\" >69</td>\n",
       "      <td id=\"T_03c56_row3_col4\" class=\"data row3 col4\" >London</td>\n",
       "      <td id=\"T_03c56_row3_col5\" class=\"data row3 col5\" >6.80%</td>\n",
       "    </tr>\n",
       "    <tr>\n",
       "      <th id=\"T_03c56_level0_row4\" class=\"row_heading level0 row4\" >4</th>\n",
       "      <td id=\"T_03c56_row4_col0\" class=\"data row4 col0\" >Country</td>\n",
       "      <td id=\"T_03c56_row4_col1\" class=\"data row4 col1\" >object</td>\n",
       "      <td id=\"T_03c56_row4_col2\" class=\"data row4 col2\" >0</td>\n",
       "      <td id=\"T_03c56_row4_col3\" class=\"data row4 col3\" >21</td>\n",
       "      <td id=\"T_03c56_row4_col4\" class=\"data row4 col4\" >USA</td>\n",
       "      <td id=\"T_03c56_row4_col5\" class=\"data row4 col5\" >15.53%</td>\n",
       "    </tr>\n",
       "    <tr>\n",
       "      <th id=\"T_03c56_level0_row5\" class=\"row_heading level0 row5\" >5</th>\n",
       "      <td id=\"T_03c56_row5_col0\" class=\"data row5 col0\" >Phone</td>\n",
       "      <td id=\"T_03c56_row5_col1\" class=\"data row5 col1\" >object</td>\n",
       "      <td id=\"T_03c56_row5_col2\" class=\"data row5 col2\" >0</td>\n",
       "      <td id=\"T_03c56_row5_col3\" class=\"data row5 col3\" >91</td>\n",
       "      <td id=\"T_03c56_row5_col4\" class=\"data row5 col4\" >(5) 555-1340</td>\n",
       "      <td id=\"T_03c56_row5_col5\" class=\"data row5 col5\" >2.91%</td>\n",
       "    </tr>\n",
       "  </tbody>\n",
       "</table>\n"
      ],
      "text/plain": [
       "<pandas.io.formats.style.Styler at 0x15feac650d0>"
      ]
     },
     "execution_count": 11,
     "metadata": {},
     "output_type": "execute_result"
    }
   ],
   "source": [
    "data_exploration(df_customer)"
   ]
  },
  {
   "cell_type": "code",
   "execution_count": 12,
   "id": "1a16a96d-3585-4284-8b84-eeeca6c732c7",
   "metadata": {},
   "outputs": [
    {
     "data": {
      "text/html": [
       "<div>\n",
       "<style scoped>\n",
       "    .dataframe tbody tr th:only-of-type {\n",
       "        vertical-align: middle;\n",
       "    }\n",
       "\n",
       "    .dataframe tbody tr th {\n",
       "        vertical-align: top;\n",
       "    }\n",
       "\n",
       "    .dataframe thead th {\n",
       "        text-align: right;\n",
       "    }\n",
       "</style>\n",
       "<table border=\"1\" class=\"dataframe\">\n",
       "  <thead>\n",
       "    <tr style=\"text-align: right;\">\n",
       "      <th></th>\n",
       "      <th>Id</th>\n",
       "      <th>FirstName</th>\n",
       "      <th>LastName</th>\n",
       "      <th>City</th>\n",
       "      <th>Country</th>\n",
       "      <th>Phone</th>\n",
       "    </tr>\n",
       "  </thead>\n",
       "  <tbody>\n",
       "    <tr>\n",
       "      <th>0</th>\n",
       "      <td>1</td>\n",
       "      <td>Maria</td>\n",
       "      <td>Anders</td>\n",
       "      <td>Berlin</td>\n",
       "      <td>Germany</td>\n",
       "      <td>030-0074321</td>\n",
       "    </tr>\n",
       "    <tr>\n",
       "      <th>1</th>\n",
       "      <td>2</td>\n",
       "      <td>Ana</td>\n",
       "      <td>Trujillo</td>\n",
       "      <td>México D.F.</td>\n",
       "      <td>Mexico</td>\n",
       "      <td>(5) 555-4729</td>\n",
       "    </tr>\n",
       "    <tr>\n",
       "      <th>2</th>\n",
       "      <td>3</td>\n",
       "      <td>Antonio</td>\n",
       "      <td>Moreno</td>\n",
       "      <td>México D.F.</td>\n",
       "      <td>Mexico</td>\n",
       "      <td>(5) 555-3932</td>\n",
       "    </tr>\n",
       "    <tr>\n",
       "      <th>3</th>\n",
       "      <td>4</td>\n",
       "      <td>Thomas</td>\n",
       "      <td>Hardy</td>\n",
       "      <td>London</td>\n",
       "      <td>UK</td>\n",
       "      <td>(171) 555-7788</td>\n",
       "    </tr>\n",
       "    <tr>\n",
       "      <th>4</th>\n",
       "      <td>5</td>\n",
       "      <td>Christina</td>\n",
       "      <td>Berglund</td>\n",
       "      <td>Luleå</td>\n",
       "      <td>Sweden</td>\n",
       "      <td>0921-12 34 65</td>\n",
       "    </tr>\n",
       "  </tbody>\n",
       "</table>\n",
       "</div>"
      ],
      "text/plain": [
       "   Id  FirstName  LastName         City  Country           Phone\n",
       "0   1      Maria    Anders       Berlin  Germany     030-0074321\n",
       "1   2        Ana  Trujillo  México D.F.   Mexico    (5) 555-4729\n",
       "2   3    Antonio    Moreno  México D.F.   Mexico    (5) 555-3932\n",
       "3   4     Thomas     Hardy       London       UK  (171) 555-7788\n",
       "4   5  Christina  Berglund        Luleå   Sweden   0921-12 34 65"
      ]
     },
     "execution_count": 12,
     "metadata": {},
     "output_type": "execute_result"
    }
   ],
   "source": [
    "df_customer.head()"
   ]
  },
  {
   "cell_type": "code",
   "execution_count": 13,
   "id": "02138cbe",
   "metadata": {},
   "outputs": [
    {
     "name": "stdout",
     "output_type": "stream",
     "text": [
      "Columns 8 \n",
      "Rows 94\n",
      "duplicated 16\n"
     ]
    },
    {
     "data": {
      "text/html": [
       "<style type=\"text/css\">\n",
       "</style>\n",
       "<table id=\"T_1547c\">\n",
       "  <thead>\n",
       "    <tr>\n",
       "      <th class=\"blank level0\" >&nbsp;</th>\n",
       "      <th id=\"T_1547c_level0_col0\" class=\"col_heading level0 col0\" >name</th>\n",
       "      <th id=\"T_1547c_level0_col1\" class=\"col_heading level0 col1\" >type</th>\n",
       "      <th id=\"T_1547c_level0_col2\" class=\"col_heading level0 col2\" >nulls</th>\n",
       "      <th id=\"T_1547c_level0_col3\" class=\"col_heading level0 col3\" >unique</th>\n",
       "      <th id=\"T_1547c_level0_col4\" class=\"col_heading level0 col4\" >most_frequent</th>\n",
       "      <th id=\"T_1547c_level0_col5\" class=\"col_heading level0 col5\" >per_most_frequent</th>\n",
       "    </tr>\n",
       "  </thead>\n",
       "  <tbody>\n",
       "    <tr>\n",
       "      <th id=\"T_1547c_level0_row0\" class=\"row_heading level0 row0\" >0</th>\n",
       "      <td id=\"T_1547c_row0_col0\" class=\"data row0 col0\" >Id</td>\n",
       "      <td id=\"T_1547c_row0_col1\" class=\"data row0 col1\" >int64</td>\n",
       "      <td id=\"T_1547c_row0_col2\" class=\"data row0 col2\" >0</td>\n",
       "      <td id=\"T_1547c_row0_col3\" class=\"data row0 col3\" >78</td>\n",
       "      <td id=\"T_1547c_row0_col4\" class=\"data row0 col4\" >19</td>\n",
       "      <td id=\"T_1547c_row0_col5\" class=\"data row0 col5\" >3.19%</td>\n",
       "    </tr>\n",
       "    <tr>\n",
       "      <th id=\"T_1547c_level0_row1\" class=\"row_heading level0 row1\" >1</th>\n",
       "      <td id=\"T_1547c_row1_col0\" class=\"data row1 col0\" >ProductName</td>\n",
       "      <td id=\"T_1547c_row1_col1\" class=\"data row1 col1\" >object</td>\n",
       "      <td id=\"T_1547c_row1_col2\" class=\"data row1 col2\" >0</td>\n",
       "      <td id=\"T_1547c_row1_col3\" class=\"data row1 col3\" >78</td>\n",
       "      <td id=\"T_1547c_row1_col4\" class=\"data row1 col4\" >Teatime Chocolate Biscuits</td>\n",
       "      <td id=\"T_1547c_row1_col5\" class=\"data row1 col5\" >3.19%</td>\n",
       "    </tr>\n",
       "    <tr>\n",
       "      <th id=\"T_1547c_level0_row2\" class=\"row_heading level0 row2\" >2</th>\n",
       "      <td id=\"T_1547c_row2_col0\" class=\"data row2 col0\" >Category</td>\n",
       "      <td id=\"T_1547c_row2_col1\" class=\"data row2 col1\" >object</td>\n",
       "      <td id=\"T_1547c_row2_col2\" class=\"data row2 col2\" >0</td>\n",
       "      <td id=\"T_1547c_row2_col3\" class=\"data row2 col3\" >8</td>\n",
       "      <td id=\"T_1547c_row2_col4\" class=\"data row2 col4\" >Confections</td>\n",
       "      <td id=\"T_1547c_row2_col5\" class=\"data row2 col5\" >21.28%</td>\n",
       "    </tr>\n",
       "    <tr>\n",
       "      <th id=\"T_1547c_level0_row3\" class=\"row_heading level0 row3\" >3</th>\n",
       "      <td id=\"T_1547c_row3_col0\" class=\"data row3 col0\" >SupplierId</td>\n",
       "      <td id=\"T_1547c_row3_col1\" class=\"data row3 col1\" >int64</td>\n",
       "      <td id=\"T_1547c_row3_col2\" class=\"data row3 col2\" >0</td>\n",
       "      <td id=\"T_1547c_row3_col3\" class=\"data row3 col3\" >29</td>\n",
       "      <td id=\"T_1547c_row3_col4\" class=\"data row3 col4\" >3</td>\n",
       "      <td id=\"T_1547c_row3_col5\" class=\"data row3 col5\" >7.45%</td>\n",
       "    </tr>\n",
       "    <tr>\n",
       "      <th id=\"T_1547c_level0_row4\" class=\"row_heading level0 row4\" >4</th>\n",
       "      <td id=\"T_1547c_row4_col0\" class=\"data row4 col0\" >UnitPrice</td>\n",
       "      <td id=\"T_1547c_row4_col1\" class=\"data row4 col1\" >float64</td>\n",
       "      <td id=\"T_1547c_row4_col2\" class=\"data row4 col2\" >0</td>\n",
       "      <td id=\"T_1547c_row4_col3\" class=\"data row4 col3\" >63</td>\n",
       "      <td id=\"T_1547c_row4_col4\" class=\"data row4 col4\" >14.000000</td>\n",
       "      <td id=\"T_1547c_row4_col5\" class=\"data row4 col5\" >5.32%</td>\n",
       "    </tr>\n",
       "    <tr>\n",
       "      <th id=\"T_1547c_level0_row5\" class=\"row_heading level0 row5\" >5</th>\n",
       "      <td id=\"T_1547c_row5_col0\" class=\"data row5 col0\" >UnitCost</td>\n",
       "      <td id=\"T_1547c_row5_col1\" class=\"data row5 col1\" >float64</td>\n",
       "      <td id=\"T_1547c_row5_col2\" class=\"data row5 col2\" >0</td>\n",
       "      <td id=\"T_1547c_row5_col3\" class=\"data row5 col3\" >75</td>\n",
       "      <td id=\"T_1547c_row5_col4\" class=\"data row5 col4\" >10.640000</td>\n",
       "      <td id=\"T_1547c_row5_col5\" class=\"data row5 col5\" >3.19%</td>\n",
       "    </tr>\n",
       "    <tr>\n",
       "      <th id=\"T_1547c_level0_row6\" class=\"row_heading level0 row6\" >6</th>\n",
       "      <td id=\"T_1547c_row6_col0\" class=\"data row6 col0\" >Package</td>\n",
       "      <td id=\"T_1547c_row6_col1\" class=\"data row6 col1\" >object</td>\n",
       "      <td id=\"T_1547c_row6_col2\" class=\"data row6 col2\" >0</td>\n",
       "      <td id=\"T_1547c_row6_col3\" class=\"data row6 col3\" >70</td>\n",
       "      <td id=\"T_1547c_row6_col4\" class=\"data row6 col4\" >24 - 12 oz bottles</td>\n",
       "      <td id=\"T_1547c_row6_col5\" class=\"data row6 col5\" >4.26%</td>\n",
       "    </tr>\n",
       "    <tr>\n",
       "      <th id=\"T_1547c_level0_row7\" class=\"row_heading level0 row7\" >7</th>\n",
       "      <td id=\"T_1547c_row7_col0\" class=\"data row7 col0\" >IsDiscontinued</td>\n",
       "      <td id=\"T_1547c_row7_col1\" class=\"data row7 col1\" >bool</td>\n",
       "      <td id=\"T_1547c_row7_col2\" class=\"data row7 col2\" >0</td>\n",
       "      <td id=\"T_1547c_row7_col3\" class=\"data row7 col3\" >2</td>\n",
       "      <td id=\"T_1547c_row7_col4\" class=\"data row7 col4\" >False</td>\n",
       "      <td id=\"T_1547c_row7_col5\" class=\"data row7 col5\" >91.49%</td>\n",
       "    </tr>\n",
       "  </tbody>\n",
       "</table>\n"
      ],
      "text/plain": [
       "<pandas.io.formats.style.Styler at 0x15feac66360>"
      ]
     },
     "execution_count": 13,
     "metadata": {},
     "output_type": "execute_result"
    }
   ],
   "source": [
    "data_exploration(df_product)"
   ]
  },
  {
   "cell_type": "code",
   "execution_count": 14,
   "id": "55b01bef-0165-44e5-b4e3-150d0238d267",
   "metadata": {},
   "outputs": [
    {
     "data": {
      "text/html": [
       "<div>\n",
       "<style scoped>\n",
       "    .dataframe tbody tr th:only-of-type {\n",
       "        vertical-align: middle;\n",
       "    }\n",
       "\n",
       "    .dataframe tbody tr th {\n",
       "        vertical-align: top;\n",
       "    }\n",
       "\n",
       "    .dataframe thead th {\n",
       "        text-align: right;\n",
       "    }\n",
       "</style>\n",
       "<table border=\"1\" class=\"dataframe\">\n",
       "  <thead>\n",
       "    <tr style=\"text-align: right;\">\n",
       "      <th></th>\n",
       "      <th>Id</th>\n",
       "      <th>ProductName</th>\n",
       "      <th>Category</th>\n",
       "      <th>SupplierId</th>\n",
       "      <th>UnitPrice</th>\n",
       "      <th>UnitCost</th>\n",
       "      <th>Package</th>\n",
       "      <th>IsDiscontinued</th>\n",
       "    </tr>\n",
       "  </thead>\n",
       "  <tbody>\n",
       "    <tr>\n",
       "      <th>0</th>\n",
       "      <td>1</td>\n",
       "      <td>Chai</td>\n",
       "      <td>Beverages</td>\n",
       "      <td>1</td>\n",
       "      <td>18.0</td>\n",
       "      <td>13.86</td>\n",
       "      <td>10 boxes x 20 bags</td>\n",
       "      <td>False</td>\n",
       "    </tr>\n",
       "    <tr>\n",
       "      <th>1</th>\n",
       "      <td>2</td>\n",
       "      <td>Chang</td>\n",
       "      <td>Beverages</td>\n",
       "      <td>1</td>\n",
       "      <td>19.0</td>\n",
       "      <td>15.39</td>\n",
       "      <td>24 - 12 oz bottles</td>\n",
       "      <td>False</td>\n",
       "    </tr>\n",
       "    <tr>\n",
       "      <th>2</th>\n",
       "      <td>3</td>\n",
       "      <td>Aniseed Syrup</td>\n",
       "      <td>Condiments</td>\n",
       "      <td>1</td>\n",
       "      <td>10.0</td>\n",
       "      <td>7.70</td>\n",
       "      <td>12 - 550 ml bottles</td>\n",
       "      <td>False</td>\n",
       "    </tr>\n",
       "    <tr>\n",
       "      <th>3</th>\n",
       "      <td>4</td>\n",
       "      <td>Chef Anton's Cajun Seasoning</td>\n",
       "      <td>Condiments</td>\n",
       "      <td>2</td>\n",
       "      <td>22.0</td>\n",
       "      <td>16.50</td>\n",
       "      <td>48 - 6 oz jars</td>\n",
       "      <td>False</td>\n",
       "    </tr>\n",
       "    <tr>\n",
       "      <th>4</th>\n",
       "      <td>4</td>\n",
       "      <td>Chef Anton's Cajun Seasoning</td>\n",
       "      <td>Condiments</td>\n",
       "      <td>2</td>\n",
       "      <td>22.0</td>\n",
       "      <td>16.50</td>\n",
       "      <td>48 - 6 oz jars</td>\n",
       "      <td>False</td>\n",
       "    </tr>\n",
       "  </tbody>\n",
       "</table>\n",
       "</div>"
      ],
      "text/plain": [
       "   Id                   ProductName    Category  SupplierId  UnitPrice  \\\n",
       "0   1                          Chai   Beverages           1       18.0   \n",
       "1   2                         Chang   Beverages           1       19.0   \n",
       "2   3                 Aniseed Syrup  Condiments           1       10.0   \n",
       "3   4  Chef Anton's Cajun Seasoning  Condiments           2       22.0   \n",
       "4   4  Chef Anton's Cajun Seasoning  Condiments           2       22.0   \n",
       "\n",
       "   UnitCost              Package  IsDiscontinued  \n",
       "0     13.86   10 boxes x 20 bags           False  \n",
       "1     15.39   24 - 12 oz bottles           False  \n",
       "2      7.70  12 - 550 ml bottles           False  \n",
       "3     16.50       48 - 6 oz jars           False  \n",
       "4     16.50       48 - 6 oz jars           False  "
      ]
     },
     "execution_count": 14,
     "metadata": {},
     "output_type": "execute_result"
    }
   ],
   "source": [
    "df_product.head()"
   ]
  },
  {
   "cell_type": "code",
   "execution_count": 15,
   "id": "5a544b20",
   "metadata": {},
   "outputs": [
    {
     "name": "stdout",
     "output_type": "stream",
     "text": [
      "Columns 8 \n",
      "Rows 35\n",
      "duplicated 6\n"
     ]
    },
    {
     "data": {
      "text/html": [
       "<style type=\"text/css\">\n",
       "</style>\n",
       "<table id=\"T_ba658\">\n",
       "  <thead>\n",
       "    <tr>\n",
       "      <th class=\"blank level0\" >&nbsp;</th>\n",
       "      <th id=\"T_ba658_level0_col0\" class=\"col_heading level0 col0\" >name</th>\n",
       "      <th id=\"T_ba658_level0_col1\" class=\"col_heading level0 col1\" >type</th>\n",
       "      <th id=\"T_ba658_level0_col2\" class=\"col_heading level0 col2\" >nulls</th>\n",
       "      <th id=\"T_ba658_level0_col3\" class=\"col_heading level0 col3\" >unique</th>\n",
       "      <th id=\"T_ba658_level0_col4\" class=\"col_heading level0 col4\" >most_frequent</th>\n",
       "      <th id=\"T_ba658_level0_col5\" class=\"col_heading level0 col5\" >per_most_frequent</th>\n",
       "    </tr>\n",
       "  </thead>\n",
       "  <tbody>\n",
       "    <tr>\n",
       "      <th id=\"T_ba658_level0_row0\" class=\"row_heading level0 row0\" >0</th>\n",
       "      <td id=\"T_ba658_row0_col0\" class=\"data row0 col0\" >Id</td>\n",
       "      <td id=\"T_ba658_row0_col1\" class=\"data row0 col1\" >int64</td>\n",
       "      <td id=\"T_ba658_row0_col2\" class=\"data row0 col2\" >0</td>\n",
       "      <td id=\"T_ba658_row0_col3\" class=\"data row0 col3\" >29</td>\n",
       "      <td id=\"T_ba658_row0_col4\" class=\"data row0 col4\" >22</td>\n",
       "      <td id=\"T_ba658_row0_col5\" class=\"data row0 col5\" >8.57%</td>\n",
       "    </tr>\n",
       "    <tr>\n",
       "      <th id=\"T_ba658_level0_row1\" class=\"row_heading level0 row1\" >1</th>\n",
       "      <td id=\"T_ba658_row1_col0\" class=\"data row1 col0\" >CompanyName</td>\n",
       "      <td id=\"T_ba658_row1_col1\" class=\"data row1 col1\" >object</td>\n",
       "      <td id=\"T_ba658_row1_col2\" class=\"data row1 col2\" >0</td>\n",
       "      <td id=\"T_ba658_row1_col3\" class=\"data row1 col3\" >29</td>\n",
       "      <td id=\"T_ba658_row1_col4\" class=\"data row1 col4\" >Zaanse Snoepfabriek</td>\n",
       "      <td id=\"T_ba658_row1_col5\" class=\"data row1 col5\" >8.57%</td>\n",
       "    </tr>\n",
       "    <tr>\n",
       "      <th id=\"T_ba658_level0_row2\" class=\"row_heading level0 row2\" >2</th>\n",
       "      <td id=\"T_ba658_row2_col0\" class=\"data row2 col0\" >ContactName</td>\n",
       "      <td id=\"T_ba658_row2_col1\" class=\"data row2 col1\" >object</td>\n",
       "      <td id=\"T_ba658_row2_col2\" class=\"data row2 col2\" >0</td>\n",
       "      <td id=\"T_ba658_row2_col3\" class=\"data row2 col3\" >29</td>\n",
       "      <td id=\"T_ba658_row2_col4\" class=\"data row2 col4\" >Dirk Luchte</td>\n",
       "      <td id=\"T_ba658_row2_col5\" class=\"data row2 col5\" >8.57%</td>\n",
       "    </tr>\n",
       "    <tr>\n",
       "      <th id=\"T_ba658_level0_row3\" class=\"row_heading level0 row3\" >3</th>\n",
       "      <td id=\"T_ba658_row3_col0\" class=\"data row3 col0\" >ContactTitle</td>\n",
       "      <td id=\"T_ba658_row3_col1\" class=\"data row3 col1\" >object</td>\n",
       "      <td id=\"T_ba658_row3_col2\" class=\"data row3 col2\" >34</td>\n",
       "      <td id=\"T_ba658_row3_col3\" class=\"data row3 col3\" >1</td>\n",
       "      <td id=\"T_ba658_row3_col4\" class=\"data row3 col4\" > </td>\n",
       "      <td id=\"T_ba658_row3_col5\" class=\"data row3 col5\" >2.86%</td>\n",
       "    </tr>\n",
       "    <tr>\n",
       "      <th id=\"T_ba658_level0_row4\" class=\"row_heading level0 row4\" >4</th>\n",
       "      <td id=\"T_ba658_row4_col0\" class=\"data row4 col0\" >City</td>\n",
       "      <td id=\"T_ba658_row4_col1\" class=\"data row4 col1\" >object</td>\n",
       "      <td id=\"T_ba658_row4_col2\" class=\"data row4 col2\" >0</td>\n",
       "      <td id=\"T_ba658_row4_col3\" class=\"data row4 col3\" >29</td>\n",
       "      <td id=\"T_ba658_row4_col4\" class=\"data row4 col4\" >Zaandam</td>\n",
       "      <td id=\"T_ba658_row4_col5\" class=\"data row4 col5\" >8.57%</td>\n",
       "    </tr>\n",
       "    <tr>\n",
       "      <th id=\"T_ba658_level0_row5\" class=\"row_heading level0 row5\" >5</th>\n",
       "      <td id=\"T_ba658_row5_col0\" class=\"data row5 col0\" >Country</td>\n",
       "      <td id=\"T_ba658_row5_col1\" class=\"data row5 col1\" >object</td>\n",
       "      <td id=\"T_ba658_row5_col2\" class=\"data row5 col2\" >0</td>\n",
       "      <td id=\"T_ba658_row5_col3\" class=\"data row5 col3\" >16</td>\n",
       "      <td id=\"T_ba658_row5_col4\" class=\"data row5 col4\" >USA</td>\n",
       "      <td id=\"T_ba658_row5_col5\" class=\"data row5 col5\" >14.29%</td>\n",
       "    </tr>\n",
       "    <tr>\n",
       "      <th id=\"T_ba658_level0_row6\" class=\"row_heading level0 row6\" >6</th>\n",
       "      <td id=\"T_ba658_row6_col0\" class=\"data row6 col0\" >Phone</td>\n",
       "      <td id=\"T_ba658_row6_col1\" class=\"data row6 col1\" >object</td>\n",
       "      <td id=\"T_ba658_row6_col2\" class=\"data row6 col2\" >0</td>\n",
       "      <td id=\"T_ba658_row6_col3\" class=\"data row6 col3\" >29</td>\n",
       "      <td id=\"T_ba658_row6_col4\" class=\"data row6 col4\" >(12345) 1212</td>\n",
       "      <td id=\"T_ba658_row6_col5\" class=\"data row6 col5\" >8.57%</td>\n",
       "    </tr>\n",
       "    <tr>\n",
       "      <th id=\"T_ba658_level0_row7\" class=\"row_heading level0 row7\" >7</th>\n",
       "      <td id=\"T_ba658_row7_col0\" class=\"data row7 col0\" >Fax</td>\n",
       "      <td id=\"T_ba658_row7_col1\" class=\"data row7 col1\" >object</td>\n",
       "      <td id=\"T_ba658_row7_col2\" class=\"data row7 col2\" >20</td>\n",
       "      <td id=\"T_ba658_row7_col3\" class=\"data row7 col3\" >13</td>\n",
       "      <td id=\"T_ba658_row7_col4\" class=\"data row7 col4\" >(12345) 1210</td>\n",
       "      <td id=\"T_ba658_row7_col5\" class=\"data row7 col5\" >8.57%</td>\n",
       "    </tr>\n",
       "  </tbody>\n",
       "</table>\n"
      ],
      "text/plain": [
       "<pandas.io.formats.style.Styler at 0x15feac65eb0>"
      ]
     },
     "execution_count": 15,
     "metadata": {},
     "output_type": "execute_result"
    }
   ],
   "source": [
    "data_exploration(df_supplier)"
   ]
  },
  {
   "cell_type": "code",
   "execution_count": 16,
   "id": "90cbb161-3a9d-4c2c-b64f-a151bf7098d8",
   "metadata": {},
   "outputs": [
    {
     "data": {
      "text/html": [
       "<div>\n",
       "<style scoped>\n",
       "    .dataframe tbody tr th:only-of-type {\n",
       "        vertical-align: middle;\n",
       "    }\n",
       "\n",
       "    .dataframe tbody tr th {\n",
       "        vertical-align: top;\n",
       "    }\n",
       "\n",
       "    .dataframe thead th {\n",
       "        text-align: right;\n",
       "    }\n",
       "</style>\n",
       "<table border=\"1\" class=\"dataframe\">\n",
       "  <thead>\n",
       "    <tr style=\"text-align: right;\">\n",
       "      <th></th>\n",
       "      <th>Id</th>\n",
       "      <th>CompanyName</th>\n",
       "      <th>ContactName</th>\n",
       "      <th>ContactTitle</th>\n",
       "      <th>City</th>\n",
       "      <th>Country</th>\n",
       "      <th>Phone</th>\n",
       "      <th>Fax</th>\n",
       "    </tr>\n",
       "  </thead>\n",
       "  <tbody>\n",
       "    <tr>\n",
       "      <th>0</th>\n",
       "      <td>1</td>\n",
       "      <td>Exotic Liquids</td>\n",
       "      <td>Charlotte Cooper</td>\n",
       "      <td></td>\n",
       "      <td>London</td>\n",
       "      <td>UK</td>\n",
       "      <td>(171) 555-2222</td>\n",
       "      <td>NaN</td>\n",
       "    </tr>\n",
       "    <tr>\n",
       "      <th>1</th>\n",
       "      <td>2</td>\n",
       "      <td>New Orleans Cajun Delights</td>\n",
       "      <td>Shelley Burke</td>\n",
       "      <td>NaN</td>\n",
       "      <td>New Orleans</td>\n",
       "      <td>USA</td>\n",
       "      <td>(100) 555-4822</td>\n",
       "      <td>NaN</td>\n",
       "    </tr>\n",
       "    <tr>\n",
       "      <th>2</th>\n",
       "      <td>3</td>\n",
       "      <td>Grandma Kelly's Homestead</td>\n",
       "      <td>Regina Murphy</td>\n",
       "      <td>NaN</td>\n",
       "      <td>Ann Arbor</td>\n",
       "      <td>USA</td>\n",
       "      <td>(313) 555-5735</td>\n",
       "      <td>(313) 555-3349</td>\n",
       "    </tr>\n",
       "    <tr>\n",
       "      <th>3</th>\n",
       "      <td>4</td>\n",
       "      <td>Tokyo Traders</td>\n",
       "      <td>Yoshi Nagase</td>\n",
       "      <td>NaN</td>\n",
       "      <td>Tokyo</td>\n",
       "      <td>Japan</td>\n",
       "      <td>(03) 3555-5011</td>\n",
       "      <td>NaN</td>\n",
       "    </tr>\n",
       "    <tr>\n",
       "      <th>4</th>\n",
       "      <td>5</td>\n",
       "      <td>Cooperativa de Quesos 'Las Cabras'</td>\n",
       "      <td>Antonio del Valle Saavedra</td>\n",
       "      <td>NaN</td>\n",
       "      <td>Oviedo</td>\n",
       "      <td>Spain</td>\n",
       "      <td>(98) 598 76 54</td>\n",
       "      <td>NaN</td>\n",
       "    </tr>\n",
       "  </tbody>\n",
       "</table>\n",
       "</div>"
      ],
      "text/plain": [
       "   Id                         CompanyName                 ContactName  \\\n",
       "0   1                      Exotic Liquids            Charlotte Cooper   \n",
       "1   2          New Orleans Cajun Delights               Shelley Burke   \n",
       "2   3           Grandma Kelly's Homestead               Regina Murphy   \n",
       "3   4                       Tokyo Traders                Yoshi Nagase   \n",
       "4   5  Cooperativa de Quesos 'Las Cabras'  Antonio del Valle Saavedra   \n",
       "\n",
       "  ContactTitle         City Country           Phone             Fax  \n",
       "0                    London      UK  (171) 555-2222             NaN  \n",
       "1          NaN  New Orleans     USA  (100) 555-4822             NaN  \n",
       "2          NaN    Ann Arbor     USA  (313) 555-5735  (313) 555-3349  \n",
       "3          NaN        Tokyo   Japan  (03) 3555-5011             NaN  \n",
       "4          NaN       Oviedo   Spain  (98) 598 76 54             NaN  "
      ]
     },
     "execution_count": 16,
     "metadata": {},
     "output_type": "execute_result"
    }
   ],
   "source": [
    "df_supplier.head()"
   ]
  },
  {
   "cell_type": "markdown",
   "id": "901d6952",
   "metadata": {
    "jp-MarkdownHeadingCollapsed": true
   },
   "source": [
    "## Data Cleaning\n",
    "<a id='Data Cleaning'></a>"
   ]
  },
  {
   "cell_type": "markdown",
   "id": "49c87d1a",
   "metadata": {},
   "source": [
    "### OrderItem "
   ]
  },
  {
   "cell_type": "code",
   "execution_count": 19,
   "id": "7c1fc633",
   "metadata": {},
   "outputs": [],
   "source": [
    "# drop duplicate rows\n",
    "df_orderitem  = df_orderitem.drop_duplicates()"
   ]
  },
  {
   "cell_type": "markdown",
   "id": "9ae26504",
   "metadata": {},
   "source": [
    "### Orders"
   ]
  },
  {
   "cell_type": "code",
   "execution_count": 21,
   "id": "cca3c510",
   "metadata": {},
   "outputs": [],
   "source": [
    "# drop duplicate rows\n",
    "df_orders = df_orders.drop_duplicates()"
   ]
  },
  {
   "cell_type": "code",
   "execution_count": 22,
   "id": "dc59c046",
   "metadata": {},
   "outputs": [],
   "source": [
    "# Split the id column by \"-\" and expand into separate columns\n",
    "df_orders[['Id&Date', 'Date']] = df_orders['Id&Date'].str.split('-', expand=True)\n",
    "\n",
    "# Rename column\n",
    "df_orders = df_orders.rename(columns={'Id&Date': 'Id'})"
   ]
  },
  {
   "cell_type": "code",
   "execution_count": 23,
   "id": "039e3ea8",
   "metadata": {},
   "outputs": [
    {
     "data": {
      "text/plain": [
       "31122013"
      ]
     },
     "execution_count": 23,
     "metadata": {},
     "output_type": "execute_result"
    }
   ],
   "source": [
    "# Change column type\n",
    "df_orders['Date'] = df_orders['Date'].astype(int)\n",
    "\n",
    "# get max to check date order\n",
    "df_orders['Date'].max()"
   ]
  },
  {
   "cell_type": "code",
   "execution_count": 24,
   "id": "6f8f4793",
   "metadata": {},
   "outputs": [],
   "source": [
    "# Change column type\n",
    "df_orders['Date'] = df_orders['Date'].astype(str)\n",
    "\n",
    "# Dictionary to map month\n",
    "month_mapping = {\n",
    "    'Jan': 1, 'Feb': 2, 'Mar': 3, 'Apr': 4, 'May': 5, 'Jun': 6,\n",
    "    'Jul': 7, 'Aug': 8, 'Sep': 9, 'Oct': 10, 'Nov': 11, 'Dec': 12\n",
    "}\n",
    "\n",
    "# Convert 'Month' to numeric values using the dictionary\n",
    "df_orders['month_no'] = df_orders['Month'].map(month_mapping)"
   ]
  },
  {
   "cell_type": "code",
   "execution_count": 25,
   "id": "681d5aa9",
   "metadata": {},
   "outputs": [],
   "source": [
    "# Concatenate month_no and year\n",
    "df_orders['month_year'] = df_orders['month_no'].astype(str) + df_orders['Date'].str[-4:]\n",
    "\n",
    "# Create a column for day\n",
    "df_orders['day'] = df_orders.apply(lambda x: x['Date'][:len(x['Date']) - len(x['month_year'])], axis=1)\n",
    "\n",
    "# Convert month to 2 digits \n",
    "df_orders['month_year'] = df_orders['month_year'].apply(lambda x: x.zfill(6))\n",
    "\n",
    "# Convert day to 2 digits\n",
    "df_orders['day'] = df_orders['day'].apply(lambda x: x.zfill(2))\n",
    "\n",
    "# Rename column\n",
    "df_orders = df_orders.rename(columns={'Month': 'OrderDate'})\n",
    "\n",
    "# Concatenate day and month_year\n",
    "df_orders['OrderDate'] = df_orders['day'] + df_orders['month_year']"
   ]
  },
  {
   "cell_type": "code",
   "execution_count": 26,
   "id": "109b884f",
   "metadata": {},
   "outputs": [],
   "source": [
    "# Convert 'DateString' to proper datetime format\n",
    "df_orders['OrderDate'] = pd.to_datetime(df_orders['OrderDate'], format='%d%m%Y')\n",
    "\n",
    "# Format date to mm/dd/yyyy\n",
    "df_orders['OrderDate'] = df_orders['OrderDate'].dt.strftime('%m/%d/%Y')\n",
    "\n",
    "# drop columns\n",
    "df_orders = df_orders.drop(columns=['Date','month_no', 'month_year', 'day'])"
   ]
  },
  {
   "cell_type": "markdown",
   "id": "4b1503eb",
   "metadata": {},
   "source": [
    "### Customer"
   ]
  },
  {
   "cell_type": "code",
   "execution_count": 28,
   "id": "b6083328",
   "metadata": {},
   "outputs": [],
   "source": [
    "# drop duplicate rows\n",
    "df_customer = df_customer.drop_duplicates()"
   ]
  },
  {
   "cell_type": "markdown",
   "id": "04fd66ea",
   "metadata": {},
   "source": [
    "### Product"
   ]
  },
  {
   "cell_type": "code",
   "execution_count": 30,
   "id": "bc83960a",
   "metadata": {},
   "outputs": [],
   "source": [
    "# Convert False/True to 0/1 by chaning data type to intger\n",
    "df_product['IsDiscontinued'] = df_product['IsDiscontinued'].astype(int)\n",
    "\n",
    "# drop duplicate rows\n",
    "df_product = df_product.drop_duplicates()"
   ]
  },
  {
   "cell_type": "markdown",
   "id": "23877985",
   "metadata": {},
   "source": [
    "### Supplier"
   ]
  },
  {
   "cell_type": "code",
   "execution_count": 32,
   "id": "9697bbe2",
   "metadata": {},
   "outputs": [],
   "source": [
    "# drop column \n",
    "df_supplier = df_supplier.drop(columns=['ContactTitle'])\n",
    "\n",
    "# drop duplicate rows\n",
    "df_supplier = df_supplier.drop_duplicates()\n",
    "\n",
    "#Remove Commas\n",
    "df_supplier = df_supplier.replace(\",\", \"\", regex=True)"
   ]
  },
  {
   "cell_type": "markdown",
   "id": "eda14186-bd76-45fd-86c4-380e5d15e4d3",
   "metadata": {},
   "source": [
    "## Exploratory Data Analysis\n",
    "<a id='xploratory Data Analysis'></a>"
   ]
  },
  {
   "cell_type": "code",
   "execution_count": 34,
   "id": "07fb7742-bfc1-4795-bc28-e062d263b1bc",
   "metadata": {},
   "outputs": [],
   "source": [
    "# Create data frames to get old price \n",
    "Product_price_list = df_product.drop(columns=['ProductName','SupplierId','UnitCost', 'Package', 'IsDiscontinued','Category'])\n",
    "orders_price_list = df_orderitem.drop(columns=['Id'])\n",
    "\n",
    "# join to data frames\n",
    "price_list = pd.merge(Product_price_list ,orders_price_list , left_on='Id' ,right_on='ProductId',how='right')\n",
    "price_list['diff'] = price_list['UnitPrice_x']-price_list['UnitPrice_y']\n",
    "\n",
    "# filter data frame\n",
    "price_list = price_list[price_list['diff'] != 0]\n",
    "\n",
    "# drop columns\n",
    "price_list = price_list.drop(columns=['UnitPrice_x','ProductId','diff'])\n",
    "\n",
    "# Rename column\n",
    "price_list = price_list.rename(columns={'UnitPrice_y': 'OldPrice'})"
   ]
  },
  {
   "cell_type": "code",
   "execution_count": 35,
   "id": "6a373732-5c76-49b5-9313-12f60c9d72ae",
   "metadata": {},
   "outputs": [],
   "source": [
    "# Change column type\n",
    "df_orders['Id'] = df_orders['Id'].astype(int)\n",
    "\n",
    "# Tester \n",
    "test = (price_list['OldPrice']*price_list['Quantity']).sum() "
   ]
  },
  {
   "cell_type": "code",
   "execution_count": 36,
   "id": "66e5abdf-e240-4637-ac59-bc8fb0d5d033",
   "metadata": {},
   "outputs": [
    {
     "data": {
      "text/html": [
       "<div>\n",
       "<style scoped>\n",
       "    .dataframe tbody tr th:only-of-type {\n",
       "        vertical-align: middle;\n",
       "    }\n",
       "\n",
       "    .dataframe tbody tr th {\n",
       "        vertical-align: top;\n",
       "    }\n",
       "\n",
       "    .dataframe thead th {\n",
       "        text-align: right;\n",
       "    }\n",
       "</style>\n",
       "<table border=\"1\" class=\"dataframe\">\n",
       "  <thead>\n",
       "    <tr style=\"text-align: right;\">\n",
       "      <th></th>\n",
       "      <th>OrderId</th>\n",
       "    </tr>\n",
       "  </thead>\n",
       "  <tbody>\n",
       "    <tr>\n",
       "      <th>count</th>\n",
       "      <td>250.000000</td>\n",
       "    </tr>\n",
       "    <tr>\n",
       "      <th>mean</th>\n",
       "      <td>125.500000</td>\n",
       "    </tr>\n",
       "    <tr>\n",
       "      <th>std</th>\n",
       "      <td>72.312977</td>\n",
       "    </tr>\n",
       "    <tr>\n",
       "      <th>min</th>\n",
       "      <td>1.000000</td>\n",
       "    </tr>\n",
       "    <tr>\n",
       "      <th>25%</th>\n",
       "      <td>63.250000</td>\n",
       "    </tr>\n",
       "    <tr>\n",
       "      <th>50%</th>\n",
       "      <td>125.500000</td>\n",
       "    </tr>\n",
       "    <tr>\n",
       "      <th>75%</th>\n",
       "      <td>187.750000</td>\n",
       "    </tr>\n",
       "    <tr>\n",
       "      <th>max</th>\n",
       "      <td>250.000000</td>\n",
       "    </tr>\n",
       "  </tbody>\n",
       "</table>\n",
       "</div>"
      ],
      "text/plain": [
       "          OrderId\n",
       "count  250.000000\n",
       "mean   125.500000\n",
       "std     72.312977\n",
       "min      1.000000\n",
       "25%     63.250000\n",
       "50%    125.500000\n",
       "75%    187.750000\n",
       "max    250.000000"
      ]
     },
     "execution_count": 36,
     "metadata": {},
     "output_type": "execute_result"
    }
   ],
   "source": [
    "# Making data frame to get all orders with old price\n",
    "orderId_oldprice = price_list.drop(columns = ['Id','OldPrice','Quantity'])\n",
    "\n",
    "# drop duplicate rows\n",
    "orderId_oldprice = orderId_oldprice.drop_duplicates()\n",
    "orderId_oldprice.describe()"
   ]
  },
  {
   "cell_type": "code",
   "execution_count": 37,
   "id": "5a3182bc-2646-490c-bb98-bc729771a15f",
   "metadata": {},
   "outputs": [
    {
     "data": {
      "text/plain": [
       "True"
      ]
     },
     "execution_count": 37,
     "metadata": {},
     "output_type": "execute_result"
    }
   ],
   "source": [
    "# Tester\n",
    "test2 = df_orders[df_orders['Id']<= 250]['TotalAmount'].sum()\n",
    "# check test\n",
    "test == test2"
   ]
  },
  {
   "cell_type": "code",
   "execution_count": 38,
   "id": "ef6c1d18-85d4-448c-8939-c4ce169bb6ec",
   "metadata": {},
   "outputs": [],
   "source": [
    "# Add  new column price version\n",
    "df_orders['PriceVersion'] = df_orders['Id'].apply(lambda x: 'Old' if x <= 250 else 'New')"
   ]
  },
  {
   "cell_type": "code",
   "execution_count": 39,
   "id": "85dcaf0e-be03-4689-91d2-24d17246d857",
   "metadata": {},
   "outputs": [
    {
     "name": "stdout",
     "output_type": "stream",
     "text": [
      "Columns 9 \n",
      "Rows 78\n",
      "duplicated 0\n"
     ]
    },
    {
     "data": {
      "text/html": [
       "<style type=\"text/css\">\n",
       "</style>\n",
       "<table id=\"T_f7c5f\">\n",
       "  <thead>\n",
       "    <tr>\n",
       "      <th class=\"blank level0\" >&nbsp;</th>\n",
       "      <th id=\"T_f7c5f_level0_col0\" class=\"col_heading level0 col0\" >name</th>\n",
       "      <th id=\"T_f7c5f_level0_col1\" class=\"col_heading level0 col1\" >type</th>\n",
       "      <th id=\"T_f7c5f_level0_col2\" class=\"col_heading level0 col2\" >nulls</th>\n",
       "      <th id=\"T_f7c5f_level0_col3\" class=\"col_heading level0 col3\" >unique</th>\n",
       "      <th id=\"T_f7c5f_level0_col4\" class=\"col_heading level0 col4\" >most_frequent</th>\n",
       "      <th id=\"T_f7c5f_level0_col5\" class=\"col_heading level0 col5\" >per_most_frequent</th>\n",
       "    </tr>\n",
       "  </thead>\n",
       "  <tbody>\n",
       "    <tr>\n",
       "      <th id=\"T_f7c5f_level0_row0\" class=\"row_heading level0 row0\" >0</th>\n",
       "      <td id=\"T_f7c5f_row0_col0\" class=\"data row0 col0\" >Id</td>\n",
       "      <td id=\"T_f7c5f_row0_col1\" class=\"data row0 col1\" >int64</td>\n",
       "      <td id=\"T_f7c5f_row0_col2\" class=\"data row0 col2\" >0</td>\n",
       "      <td id=\"T_f7c5f_row0_col3\" class=\"data row0 col3\" >78</td>\n",
       "      <td id=\"T_f7c5f_row0_col4\" class=\"data row0 col4\" >1</td>\n",
       "      <td id=\"T_f7c5f_row0_col5\" class=\"data row0 col5\" >1.28%</td>\n",
       "    </tr>\n",
       "    <tr>\n",
       "      <th id=\"T_f7c5f_level0_row1\" class=\"row_heading level0 row1\" >1</th>\n",
       "      <td id=\"T_f7c5f_row1_col0\" class=\"data row1 col0\" >ProductName</td>\n",
       "      <td id=\"T_f7c5f_row1_col1\" class=\"data row1 col1\" >object</td>\n",
       "      <td id=\"T_f7c5f_row1_col2\" class=\"data row1 col2\" >0</td>\n",
       "      <td id=\"T_f7c5f_row1_col3\" class=\"data row1 col3\" >78</td>\n",
       "      <td id=\"T_f7c5f_row1_col4\" class=\"data row1 col4\" >Chai</td>\n",
       "      <td id=\"T_f7c5f_row1_col5\" class=\"data row1 col5\" >1.28%</td>\n",
       "    </tr>\n",
       "    <tr>\n",
       "      <th id=\"T_f7c5f_level0_row2\" class=\"row_heading level0 row2\" >2</th>\n",
       "      <td id=\"T_f7c5f_row2_col0\" class=\"data row2 col0\" >Category</td>\n",
       "      <td id=\"T_f7c5f_row2_col1\" class=\"data row2 col1\" >object</td>\n",
       "      <td id=\"T_f7c5f_row2_col2\" class=\"data row2 col2\" >0</td>\n",
       "      <td id=\"T_f7c5f_row2_col3\" class=\"data row2 col3\" >8</td>\n",
       "      <td id=\"T_f7c5f_row2_col4\" class=\"data row2 col4\" >Confections</td>\n",
       "      <td id=\"T_f7c5f_row2_col5\" class=\"data row2 col5\" >17.95%</td>\n",
       "    </tr>\n",
       "    <tr>\n",
       "      <th id=\"T_f7c5f_level0_row3\" class=\"row_heading level0 row3\" >3</th>\n",
       "      <td id=\"T_f7c5f_row3_col0\" class=\"data row3 col0\" >SupplierId</td>\n",
       "      <td id=\"T_f7c5f_row3_col1\" class=\"data row3 col1\" >int64</td>\n",
       "      <td id=\"T_f7c5f_row3_col2\" class=\"data row3 col2\" >0</td>\n",
       "      <td id=\"T_f7c5f_row3_col3\" class=\"data row3 col3\" >29</td>\n",
       "      <td id=\"T_f7c5f_row3_col4\" class=\"data row3 col4\" >12</td>\n",
       "      <td id=\"T_f7c5f_row3_col5\" class=\"data row3 col5\" >6.41%</td>\n",
       "    </tr>\n",
       "    <tr>\n",
       "      <th id=\"T_f7c5f_level0_row4\" class=\"row_heading level0 row4\" >4</th>\n",
       "      <td id=\"T_f7c5f_row4_col0\" class=\"data row4 col0\" >NewPrice</td>\n",
       "      <td id=\"T_f7c5f_row4_col1\" class=\"data row4 col1\" >float64</td>\n",
       "      <td id=\"T_f7c5f_row4_col2\" class=\"data row4 col2\" >0</td>\n",
       "      <td id=\"T_f7c5f_row4_col3\" class=\"data row4 col3\" >63</td>\n",
       "      <td id=\"T_f7c5f_row4_col4\" class=\"data row4 col4\" >18.000000</td>\n",
       "      <td id=\"T_f7c5f_row4_col5\" class=\"data row4 col5\" >5.13%</td>\n",
       "    </tr>\n",
       "    <tr>\n",
       "      <th id=\"T_f7c5f_level0_row5\" class=\"row_heading level0 row5\" >5</th>\n",
       "      <td id=\"T_f7c5f_row5_col0\" class=\"data row5 col0\" >UnitCost</td>\n",
       "      <td id=\"T_f7c5f_row5_col1\" class=\"data row5 col1\" >float64</td>\n",
       "      <td id=\"T_f7c5f_row5_col2\" class=\"data row5 col2\" >0</td>\n",
       "      <td id=\"T_f7c5f_row5_col3\" class=\"data row5 col3\" >75</td>\n",
       "      <td id=\"T_f7c5f_row5_col4\" class=\"data row5 col4\" >7.700000</td>\n",
       "      <td id=\"T_f7c5f_row5_col5\" class=\"data row5 col5\" >2.56%</td>\n",
       "    </tr>\n",
       "    <tr>\n",
       "      <th id=\"T_f7c5f_level0_row6\" class=\"row_heading level0 row6\" >6</th>\n",
       "      <td id=\"T_f7c5f_row6_col0\" class=\"data row6 col0\" >Package</td>\n",
       "      <td id=\"T_f7c5f_row6_col1\" class=\"data row6 col1\" >object</td>\n",
       "      <td id=\"T_f7c5f_row6_col2\" class=\"data row6 col2\" >0</td>\n",
       "      <td id=\"T_f7c5f_row6_col3\" class=\"data row6 col3\" >70</td>\n",
       "      <td id=\"T_f7c5f_row6_col4\" class=\"data row6 col4\" >24 - 12 oz bottles</td>\n",
       "      <td id=\"T_f7c5f_row6_col5\" class=\"data row6 col5\" >5.13%</td>\n",
       "    </tr>\n",
       "    <tr>\n",
       "      <th id=\"T_f7c5f_level0_row7\" class=\"row_heading level0 row7\" >7</th>\n",
       "      <td id=\"T_f7c5f_row7_col0\" class=\"data row7 col0\" >IsDiscontinued</td>\n",
       "      <td id=\"T_f7c5f_row7_col1\" class=\"data row7 col1\" >int32</td>\n",
       "      <td id=\"T_f7c5f_row7_col2\" class=\"data row7 col2\" >0</td>\n",
       "      <td id=\"T_f7c5f_row7_col3\" class=\"data row7 col3\" >2</td>\n",
       "      <td id=\"T_f7c5f_row7_col4\" class=\"data row7 col4\" >0</td>\n",
       "      <td id=\"T_f7c5f_row7_col5\" class=\"data row7 col5\" >89.74%</td>\n",
       "    </tr>\n",
       "    <tr>\n",
       "      <th id=\"T_f7c5f_level0_row8\" class=\"row_heading level0 row8\" >8</th>\n",
       "      <td id=\"T_f7c5f_row8_col0\" class=\"data row8 col0\" >OldPrice</td>\n",
       "      <td id=\"T_f7c5f_row8_col1\" class=\"data row8 col1\" >float64</td>\n",
       "      <td id=\"T_f7c5f_row8_col2\" class=\"data row8 col2\" >1</td>\n",
       "      <td id=\"T_f7c5f_row8_col3\" class=\"data row8 col3\" >61</td>\n",
       "      <td id=\"T_f7c5f_row8_col4\" class=\"data row8 col4\" >14.400000</td>\n",
       "      <td id=\"T_f7c5f_row8_col5\" class=\"data row8 col5\" >5.13%</td>\n",
       "    </tr>\n",
       "  </tbody>\n",
       "</table>\n"
      ],
      "text/plain": [
       "<pandas.io.formats.style.Styler at 0x15feace5eb0>"
      ]
     },
     "execution_count": 39,
     "metadata": {},
     "output_type": "execute_result"
    }
   ],
   "source": [
    "# drop columns\n",
    "price_list = price_list.drop(columns=['OrderId','Quantity'])\n",
    "\n",
    "# drop duplicate rows\n",
    "price_list = price_list.drop_duplicates()\n",
    "\n",
    "# Add column with old price to df_product data frame\n",
    "df_product =  pd.merge(df_product ,price_list , on='Id' ,how='left')\n",
    "\n",
    "# Rename column\n",
    "df_product = df_product.rename(columns={'UnitPrice': 'NewPrice'})\n",
    "\n",
    "data_exploration(df_product)"
   ]
  },
  {
   "cell_type": "code",
   "execution_count": 40,
   "id": "874628d1-a725-49c9-a938-2950c54b9c0c",
   "metadata": {},
   "outputs": [],
   "source": [
    "# Replace NaN values with 0 in old price\n",
    "df_product['OldPrice'] = df_product['OldPrice'].fillna(0)"
   ]
  },
  {
   "cell_type": "markdown",
   "id": "77c4db2a",
   "metadata": {},
   "source": [
    "## Save DataFrames to CSV\n",
    "<a id='Save DataFrames to CSV'></a>"
   ]
  },
  {
   "cell_type": "code",
   "execution_count": 42,
   "id": "0663ba50",
   "metadata": {},
   "outputs": [
    {
     "name": "stdout",
     "output_type": "stream",
     "text": [
      "Saved DataFrame as 'orderitem.csv'\n",
      "Saved DataFrame as 'orders.csv'\n",
      "Saved DataFrame as 'customer.csv'\n",
      "Saved DataFrame as 'product.csv'\n",
      "Saved DataFrame as 'supplier.csv'\n"
     ]
    }
   ],
   "source": [
    "# Save each DataFrame to CSV with modified filenames\n",
    "for name in list_df:\n",
    "    # Use globals() to get the DataFrame by its name\n",
    "    df = globals()[name]\n",
    "    \n",
    "    # Create the filename by removing the first 3 characters from the name\n",
    "    filename = name[3:] + '.csv'\n",
    "    # Save the DataFrame to a CSV file\n",
    "    df.to_csv(filename, index=False,encoding='utf-16')   \n",
    "    print(f\"Saved DataFrame as '{filename}'\")"
   ]
  },
  {
   "cell_type": "code",
   "execution_count": null,
   "id": "eacac571-8380-468f-8c70-4751c4d4d1c6",
   "metadata": {},
   "outputs": [],
   "source": []
  }
 ],
 "metadata": {
  "kernelspec": {
   "display_name": "Python 3 (ipykernel)",
   "language": "python",
   "name": "python3"
  },
  "language_info": {
   "codemirror_mode": {
    "name": "ipython",
    "version": 3
   },
   "file_extension": ".py",
   "mimetype": "text/x-python",
   "name": "python",
   "nbconvert_exporter": "python",
   "pygments_lexer": "ipython3",
   "version": "3.12.4"
  }
 },
 "nbformat": 4,
 "nbformat_minor": 5
}
